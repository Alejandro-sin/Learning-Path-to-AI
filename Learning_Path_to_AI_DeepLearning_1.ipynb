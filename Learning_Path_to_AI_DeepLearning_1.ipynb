{
  "nbformat": 4,
  "nbformat_minor": 0,
  "metadata": {
    "colab": {
      "provenance": [],
      "gpuType": "T4",
      "authorship_tag": "ABX9TyN1ojIwYIese9Tk/US/iVmp",
      "include_colab_link": true
    },
    "kernelspec": {
      "name": "python3",
      "display_name": "Python 3"
    },
    "language_info": {
      "name": "python"
    },
    "accelerator": "GPU"
  },
  "cells": [
    {
      "cell_type": "markdown",
      "metadata": {
        "id": "view-in-github",
        "colab_type": "text"
      },
      "source": [
        "<a href=\"https://colab.research.google.com/github/Alejandro-sin/Learning-Path-to-AI/blob/master/Learning_Path_to_AI_DeepLearning_1.ipynb\" target=\"_parent\"><img src=\"https://colab.research.google.com/assets/colab-badge.svg\" alt=\"Open In Colab\"/></a>"
      ]
    },
    {
      "cell_type": "markdown",
      "source": [
        "# Deep Learning - 1\n",
        "\n",
        "Esta serie de Jupyters tiene como porpósito recopilar el estudido de aprendizaje profundo utilizando diferentes frameworks de trabajo. `Pythorch` es el framework por excelencia. Para ejecutar código de pythorch, utilizaremos GPU utilizando `CUDA` que es un framework de procesamiento paralelo.\n",
        "\n",
        "\n",
        "Para empezar con los cimientos, la unidad fundamental de las cargas de trabajo en DL son los tensores, estos son estructuras que nos permitiran tener arreglos dimensionales en n-dimensiones, con m-formas."
      ],
      "metadata": {
        "id": "ATuPzz7Y4qHJ"
      }
    },
    {
      "cell_type": "code",
      "source": [
        "!nvidia-smi"
      ],
      "metadata": {
        "colab": {
          "base_uri": "https://localhost:8080/"
        },
        "id": "fitGPEYa4p-L",
        "outputId": "8f64c1d9-4b68-41a0-be1f-c1696d69d7a7"
      },
      "execution_count": 6,
      "outputs": [
        {
          "output_type": "stream",
          "name": "stdout",
          "text": [
            "Sat Dec 28 20:56:11 2024       \n",
            "+---------------------------------------------------------------------------------------+\n",
            "| NVIDIA-SMI 535.104.05             Driver Version: 535.104.05   CUDA Version: 12.2     |\n",
            "|-----------------------------------------+----------------------+----------------------+\n",
            "| GPU  Name                 Persistence-M | Bus-Id        Disp.A | Volatile Uncorr. ECC |\n",
            "| Fan  Temp   Perf          Pwr:Usage/Cap |         Memory-Usage | GPU-Util  Compute M. |\n",
            "|                                         |                      |               MIG M. |\n",
            "|=========================================+======================+======================|\n",
            "|   0  Tesla T4                       Off | 00000000:00:04.0 Off |                    0 |\n",
            "| N/A   42C    P8              12W /  70W |      0MiB / 15360MiB |      0%      Default |\n",
            "|                                         |                      |                  N/A |\n",
            "+-----------------------------------------+----------------------+----------------------+\n",
            "                                                                                         \n",
            "+---------------------------------------------------------------------------------------+\n",
            "| Processes:                                                                            |\n",
            "|  GPU   GI   CI        PID   Type   Process name                            GPU Memory |\n",
            "|        ID   ID                                                             Usage      |\n",
            "|=======================================================================================|\n",
            "|  No running processes found                                                           |\n",
            "+---------------------------------------------------------------------------------------+\n"
          ]
        }
      ]
    },
    {
      "cell_type": "code",
      "source": [
        "import torch\n",
        "import pandas as pd\n",
        "import numpy as np\n",
        "import matplotlib.pyplot as plt\n",
        "print(torch.__version__)"
      ],
      "metadata": {
        "colab": {
          "base_uri": "https://localhost:8080/"
        },
        "id": "QdgvgpRv4p7c",
        "outputId": "d8223909-ea8e-4f70-83e4-cc5cc1e8a87b"
      },
      "execution_count": 7,
      "outputs": [
        {
          "output_type": "stream",
          "name": "stdout",
          "text": [
            "2.5.1+cu121\n"
          ]
        }
      ]
    },
    {
      "cell_type": "code",
      "source": [
        "print(torch.cuda.is_available())"
      ],
      "metadata": {
        "colab": {
          "base_uri": "https://localhost:8080/"
        },
        "id": "G_fXuF8y4p4x",
        "outputId": "32cf1ca0-a92d-4ca4-9af3-99c7aba1e2ce"
      },
      "execution_count": 8,
      "outputs": [
        {
          "output_type": "stream",
          "name": "stdout",
          "text": [
            "True\n"
          ]
        }
      ]
    },
    {
      "cell_type": "markdown",
      "source": [
        "# Scalar, Vector, Matriz\n",
        "\n",
        "\n",
        "Estos tres casos especiales de los tensores, los podemos crear con `torch.tensor`,  es importante entender que la dimensión del tensor y la forma del tensor son dos cosas diferentes. Con dimensiones nos referimos al número de ejes o niveles de profundidad que tiene la estructura del tensor. En términos prácticos:\n",
        "\n",
        "- **Dimensión (Rank)**: Es el número de índices necesarios para identificar cada elemento en el tensor.\n",
        "\n",
        "- **Forma (Shape)**: Es una tupla que describe cuántos elementos hay en cada dimensión.\n",
        "\n"
      ],
      "metadata": {
        "id": "KO-oYdX_Cfv0"
      }
    },
    {
      "cell_type": "code",
      "execution_count": 17,
      "metadata": {
        "colab": {
          "base_uri": "https://localhost:8080/"
        },
        "id": "YnfqqvA_4ipc",
        "outputId": "bd0541c0-12d3-4432-89d5-a68f393c24a0"
      },
      "outputs": [
        {
          "output_type": "stream",
          "name": "stdout",
          "text": [
            "Dimension:  0\n",
            "Shape:  torch.Size([])\n",
            "Dimension:  1\n",
            "Shape:  torch.Size([2])\n",
            "Dimension:  2\n",
            "Shape:  torch.Size([2, 2])\n"
          ]
        }
      ],
      "source": [
        "scalar = torch.tensor(3) # Escalar\n",
        "print(\"Dimension: \", scalar.ndim)\n",
        "print(\"Shape: \", scalar.shape)\n",
        "\n",
        "\n",
        "vector = torch.tensor([7, 7]) # Vector\n",
        "print(\"Dimension: \", vector.ndim)\n",
        "print(\"Shape: \", vector.shape)\n",
        "\n",
        "MATRIX = torch.tensor([[7, 8],\n",
        "                        [9, 10]]) # Matriz\n",
        "print(\"Dimension: \", MATRIX.ndim)\n",
        "print(\"Shape: \", MATRIX.shape)"
      ]
    },
    {
      "cell_type": "code",
      "source": [],
      "metadata": {
        "id": "7Bm8x5CKD2BV"
      },
      "execution_count": null,
      "outputs": []
    }
  ]
}